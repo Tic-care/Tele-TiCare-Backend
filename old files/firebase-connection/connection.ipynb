{
 "cells": [
  {
   "cell_type": "code",
   "execution_count": 8,
   "metadata": {},
   "outputs": [
    {
     "ename": "SyntaxError",
     "evalue": "invalid hexadecimal literal (number.py, line 398)",
     "output_type": "error",
     "traceback": [
      "Traceback \u001b[1;36m(most recent call last)\u001b[0m:\n",
      "\u001b[0m  File \u001b[0;32mc:\\Users\\hp\\AppData\\Local\\Programs\\Python\\Python310\\lib\\site-packages\\IPython\\core\\interactiveshell.py:3433\u001b[0m in \u001b[0;35mrun_code\u001b[0m\n    exec(code_obj, self.user_global_ns, self.user_ns)\u001b[0m\n",
      "\u001b[0m  Cell \u001b[0;32mIn [8], line 3\u001b[0m\n    import pyrebase\u001b[0m\n",
      "\u001b[0m  File \u001b[0;32mc:\\Users\\hp\\AppData\\Local\\Programs\\Python\\Python310\\lib\\site-packages\\pyrebase\\__init__.py:1\u001b[0m\n    from .pyrebase import initialize_app\u001b[0m\n",
      "\u001b[0m  File \u001b[0;32mc:\\Users\\hp\\AppData\\Local\\Programs\\Python\\Python310\\lib\\site-packages\\pyrebase\\pyrebase.py:17\u001b[0m\n    from oauth2client.service_account import ServiceAccountCredentials\u001b[0m\n",
      "\u001b[0m  File \u001b[0;32mc:\\Users\\hp\\AppData\\Local\\Programs\\Python\\Python310\\lib\\site-packages\\oauth2client\\service_account.py:25\u001b[0m\n    from oauth2client import client\u001b[0m\n",
      "\u001b[0m  File \u001b[0;32mc:\\Users\\hp\\AppData\\Local\\Programs\\Python\\Python310\\lib\\site-packages\\oauth2client\\client.py:47\u001b[0m\n    from oauth2client import crypt\u001b[0m\n",
      "\u001b[0m  File \u001b[0;32mc:\\Users\\hp\\AppData\\Local\\Programs\\Python\\Python310\\lib\\site-packages\\oauth2client\\crypt.py:55\u001b[0m\n    from oauth2client import _pycrypto_crypt\u001b[0m\n",
      "\u001b[0m  File \u001b[0;32mc:\\Users\\hp\\AppData\\Local\\Programs\\Python\\Python310\\lib\\site-packages\\oauth2client\\_pycrypto_crypt.py:17\u001b[0m\n    from Crypto.PublicKey import RSA\u001b[0m\n",
      "\u001b[0m  File \u001b[0;32mc:\\Users\\hp\\AppData\\Local\\Programs\\Python\\Python310\\lib\\site-packages\\Crypto\\PublicKey\\__init__.py:29\u001b[0m\n    from Crypto.Util.asn1 import (DerSequence, DerInteger, DerBitString,\u001b[0m\n",
      "\u001b[1;36m  File \u001b[1;32mc:\\Users\\hp\\AppData\\Local\\Programs\\Python\\Python310\\lib\\site-packages\\Crypto\\Util\\asn1.py:33\u001b[1;36m\n\u001b[1;33m    from Crypto.Util.number import long_to_bytes, bytes_to_long\u001b[1;36m\n",
      "\u001b[1;36m  File \u001b[1;32mc:\\Users\\hp\\AppData\\Local\\Programs\\Python\\Python310\\lib\\site-packages\\Crypto\\Util\\number.py:398\u001b[1;36m\u001b[0m\n\u001b[1;33m    s = pack('>I', n & 0xffffffffL) + s\u001b[0m\n\u001b[1;37m                                ^\u001b[0m\n\u001b[1;31mSyntaxError\u001b[0m\u001b[1;31m:\u001b[0m invalid hexadecimal literal\n"
     ]
    },
    {
     "name": "stdout",
     "output_type": "stream",
     "text": [
      "put\n",
      "/\n",
      "{'url': '4'}\n",
      "put\n",
      "/\n",
      "{'url': '4'}\n"
     ]
    }
   ],
   "source": [
    "import firebase_admin\n",
    "from firebase_admin import credentials, db\n",
    "import pyrebase"
   ]
  },
  {
   "cell_type": "code",
   "execution_count": 2,
   "metadata": {},
   "outputs": [
    {
     "data": {
      "text/plain": [
       "<firebase_admin.App at 0x27931cc5b70>"
      ]
     },
     "execution_count": 2,
     "metadata": {},
     "output_type": "execute_result"
    }
   ],
   "source": [
    "cred = credentials.Certificate(\n",
    "    \"grad-trail-firebase-adminsdk-3xlme-d41c3126a8.json\")\n",
    "firebase_admin.initialize_app(\n",
    "    cred, {\"databaseURL\": \"https://grad-trail-default-rtdb.europe-west1.firebasedatabase.app/\"})"
   ]
  },
  {
   "cell_type": "code",
   "execution_count": 3,
   "metadata": {},
   "outputs": [
    {
     "data": {
      "text/plain": [
       "<firebase_admin.db.Reference at 0x2793054e890>"
      ]
     },
     "execution_count": 3,
     "metadata": {},
     "output_type": "execute_result"
    }
   ],
   "source": [
    "# creating reference to root node\n",
    "ref = db.reference(\"/clips\")\n",
    "ref"
   ]
  },
  {
   "cell_type": "code",
   "execution_count": 4,
   "metadata": {},
   "outputs": [
    {
     "data": {
      "text/plain": [
       "{'url': 'ggcg'}"
      ]
     },
     "execution_count": 4,
     "metadata": {},
     "output_type": "execute_result"
    }
   ],
   "source": [
    "# retrieving data from root node\n",
    "ref.get()"
   ]
  },
  {
   "cell_type": "code",
   "execution_count": 6,
   "metadata": {},
   "outputs": [
    {
     "ename": "AttributeError",
     "evalue": "'Reference' object has no attribute 'stream'",
     "output_type": "error",
     "traceback": [
      "\u001b[1;31m---------------------------------------------------------------------------\u001b[0m",
      "\u001b[1;31mAttributeError\u001b[0m                            Traceback (most recent call last)",
      "Cell \u001b[1;32mIn [6], line 11\u001b[0m\n\u001b[0;32m      7\u001b[0m     flag\u001b[38;5;241m=\u001b[39m\u001b[38;5;28;01mFalse\u001b[39;00m\n\u001b[0;32m     10\u001b[0m \u001b[38;5;28;01mwhile\u001b[39;00m flag:\n\u001b[1;32m---> 11\u001b[0m     \u001b[43mref\u001b[49m\u001b[38;5;241;43m.\u001b[39;49m\u001b[43mchild\u001b[49m\u001b[43m(\u001b[49m\u001b[38;5;124;43m\"\u001b[39;49m\u001b[38;5;124;43murl\u001b[39;49m\u001b[38;5;124;43m\"\u001b[39;49m\u001b[43m)\u001b[49m\u001b[38;5;241;43m.\u001b[39;49m\u001b[43mstream\u001b[49m(listener)\n",
      "\u001b[1;31mAttributeError\u001b[0m: 'Reference' object has no attribute 'stream'"
     ]
    }
   ],
   "source": [
    "flag = True\n",
    "\n",
    "def listener(event):\n",
    "    print(event.event_type)  # can be 'put' or 'patch'\n",
    "    print(event.path)  # relative to the reference, it seems\n",
    "    print(event.data)  # new data at /reference/event.path. None if deleted\n",
    "    flag=False\n",
    "\n",
    "\n",
    "while flag:\n",
    "    ref.child(\"url\").stream(listener)"
   ]
  },
  {
   "cell_type": "code",
   "execution_count": 16,
   "metadata": {},
   "outputs": [
    {
     "name": "stderr",
     "output_type": "stream",
     "text": [
      "c:\\Users\\hp\\AppData\\Local\\Programs\\Python\\Python310\\lib\\site-packages\\gdown\\parse_url.py:48: UserWarning: You specified a Google Drive link that is not the correct link to download a file. You might want to try `--fuzzy` option or the following url: https://drive.google.com/uc?id=1PQ5t7pegm5ianz7ken29hEPT42CPj83J\n",
      "  warnings.warn(\n",
      "Downloading...\n",
      "From: https://drive.google.com/file/d/1PQ5t7pegm5ianz7ken29hEPT42CPj83J/view?usp=sharing\n",
      "To: d:\\Graduation Project\\Tele-TiCare-Backend\\firebase-connection\\downloaded_video.mp4\n",
      "87.2kB [00:00, 2.07MB/s]\n"
     ]
    },
    {
     "data": {
      "text/plain": [
       "'downloaded_video.mp4'"
      ]
     },
     "execution_count": 16,
     "metadata": {},
     "output_type": "execute_result"
    }
   ],
   "source": [
    "from gdown import download\n",
    "\n",
    "url = 'https://drive.google.com/file/d/1PQ5t7pegm5ianz7ken29hEPT42CPj83J/view?usp=sharing'\n",
    "output = 'video.mkv'\n",
    "download(url, 'downloaded_video.mp4')"
   ]
  },
  {
   "cell_type": "code",
   "execution_count": 15,
   "metadata": {},
   "outputs": [
    {
     "name": "stdout",
     "output_type": "stream",
     "text": [
      "Downloading 1PQ5t7pegm5ianz7ken29hEPT42CPj83J into ./data/demo.mp4... Done.\n",
      "Unzipping..."
     ]
    },
    {
     "name": "stderr",
     "output_type": "stream",
     "text": [
      "c:\\Users\\hp\\AppData\\Local\\Programs\\Python\\Python310\\lib\\site-packages\\google_drive_downloader\\google_drive_downloader.py:78: UserWarning: Ignoring `unzip` since \"1PQ5t7pegm5ianz7ken29hEPT42CPj83J\" does not look like a valid zip file\n",
      "  warnings.warn('Ignoring `unzip` since \"{}\" does not look like a valid zip file'.format(file_id))\n"
     ]
    }
   ],
   "source": [
    "from google_drive_downloader import GoogleDriveDownloader as gdd\n",
    "\n",
    "gdd.download_file_from_google_drive(file_id='1PQ5t7pegm5ianz7ken29hEPT42CPj83J',\n",
    "                                    dest_path='./data/demo.mp4',\n",
    "                                    unzip=True)"
   ]
  },
  {
   "cell_type": "code",
   "execution_count": 20,
   "metadata": {},
   "outputs": [
    {
     "name": "stdout",
     "output_type": "stream",
     "text": [
      "2\n",
      "Extracted file ID: 123ABCxyz987DEFghi456\n"
     ]
    }
   ],
   "source": [
    "def extract_file_id(url):\n",
    "    \"\"\"\n",
    "    Extracts the file ID from a Google Drive link.\n",
    "\n",
    "    Args:\n",
    "        url: The Google Drive link (either direct or \"shared with you\" format).\n",
    "\n",
    "    Returns:\n",
    "        The extracted file ID (if found), otherwise None.\n",
    "    \"\"\"\n",
    "\n",
    "    # Check for direct link format\n",
    "    if \"drive.google.com/file/d/\" in url:\n",
    "        print('1')\n",
    "        return url.split(\"/\")[-2]  # Extract ID after \"file/d/\"\n",
    "\n",
    "    # Check for \"shared with you\" format\n",
    "    if \"drive.google.com/open?id=\" in url:\n",
    "        print('2')\n",
    "        return url.split(\"id=\")[1].split(\"&\")[0]  # Extract ID after \"id=\"\n",
    "\n",
    "    # If format not recognized, return None\n",
    "    print(f\"Warning: Could not recognize Google Drive link format: {url}\")\n",
    "    return None\n",
    "\n",
    "\n",
    "# Example usage\n",
    "# Replace with your link\n",
    "link = \"https://drive.google.com/open?id=123ABCxyz987DEFghi456\"\n",
    "file_id = extract_file_id(link)\n",
    "\n",
    "if file_id:\n",
    "    print(f\"Extracted file ID: {file_id}\")\n",
    "else:\n",
    "    print(\"File ID not found in the provided link.\")"
   ]
  }
 ],
 "metadata": {
  "kernelspec": {
   "display_name": "Python 3",
   "language": "python",
   "name": "python3"
  },
  "language_info": {
   "codemirror_mode": {
    "name": "ipython",
    "version": 3
   },
   "file_extension": ".py",
   "mimetype": "text/x-python",
   "name": "python",
   "nbconvert_exporter": "python",
   "pygments_lexer": "ipython3",
   "version": "3.10.7"
  }
 },
 "nbformat": 4,
 "nbformat_minor": 2
}
