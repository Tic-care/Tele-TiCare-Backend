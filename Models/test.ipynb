{
 "cells": [
  {
   "cell_type": "code",
   "execution_count": 1,
   "metadata": {},
   "outputs": [],
   "source": [
    "from spatialAnalysisv2 import SpatialAnalysis"
   ]
  },
  {
   "cell_type": "markdown",
   "metadata": {},
   "source": [
    "# video refrence threshold"
   ]
  },
  {
   "cell_type": "code",
   "execution_count": 9,
   "metadata": {},
   "outputs": [],
   "source": [
    "\n",
    "def video_process(filePath='test1.mp4'):\n",
    "    input_video=SpatialAnalysis(filePath)\n",
    "    print(\"Areas Processing\")\n",
    "    input_video.oneSecProcessing()\n",
    "    print(\"Done Processing\")\n",
    "    results=input_video.detect_tics()\n",
    "    # Print all in results \n",
    "    for idx , result in enumerate(results):\n",
    "        print(idx,result)\n",
    "    print(\"video_len\",input_video.video_len)\n",
    "    return results\n",
    "    \n",
    "def detect_areas(results, TicsSec=[[0,2]], ticThreshold=2):\n",
    "    finalResult=[]\n",
    "    names=['right brow','left brow','right eye','left eye','mouth','Neck']\n",
    "    \n",
    "    #  results in specified intervals\n",
    "    for idx , interval in enumerate(TicsSec):\n",
    "        print(\"Tic:\",idx+1,' interval',interval)\n",
    "        templist=[]\n",
    "        counter=[0,0,0,0,0,0]\n",
    "        areasPerSec=[]\n",
    "        #loops in interval example [0,2] -->0,1,2\n",
    "        for indx in range(interval[0],interval[1]+1):\n",
    "            print('sec',indx)\n",
    "            templist=results[indx]\n",
    "            #loops in areas result example [0,0,0,1,0,1] where 0-> no tics in this area , 1 -> potential tic\n",
    "            for area_idx in range(0,len(templist)):\n",
    "                counter[area_idx]=counter[area_idx]+templist[area_idx]\n",
    "                if counter[area_idx]>=ticThreshold:\n",
    "                    print(names[area_idx])\n",
    "                    areasPerSec.append(names[area_idx])\n",
    "        print(counter)\n",
    "        print(areasPerSec)\n",
    "        finalResult.append(areasPerSec)\n",
    "\n",
    "    return finalResult\n",
    "        \n",
    "def display(finalResult):\n",
    "    #  Print all in results \n",
    "    for idx , result in enumerate(finalResult):\n",
    "        print(idx,result)\n",
    "\n",
    "    \n",
    "\n",
    "\n"
   ]
  },
  {
   "cell_type": "code",
   "execution_count": 3,
   "metadata": {},
   "outputs": [
    {
     "name": "stdout",
     "output_type": "stream",
     "text": [
      "Areas Processing\n",
      "Done\n",
      "Done Processing\n",
      "0 [0, 0, 1, 0, 0, 0]\n",
      "1 [1, 0, 0, 0, 0, 0]\n",
      "2 [0, 0, 0, 0, 0, 0]\n",
      "3 [0, 0, 0, 1, 0, 0]\n",
      "4 [0, 0, 0, 1, 0, 0]\n",
      "5 [0, 0, 0, 0, 1, 1]\n",
      "6 [0, 0, 0, 0, 0, 0]\n",
      "video_len 7\n"
     ]
    }
   ],
   "source": [
    "\n",
    "results=video_process()"
   ]
  },
  {
   "cell_type": "code",
   "execution_count": 10,
   "metadata": {},
   "outputs": [
    {
     "name": "stdout",
     "output_type": "stream",
     "text": [
      "Tic: 1  interval [0, 2]\n",
      "sec 0\n",
      "right eye\n",
      "sec 1\n",
      "right brow\n",
      "right eye\n",
      "sec 2\n",
      "right brow\n",
      "right eye\n",
      "[1, 0, 1, 0, 0, 0]\n",
      "['right eye', 'right brow', 'right eye', 'right brow', 'right eye']\n"
     ]
    }
   ],
   "source": [
    "finalResult=detect_areas(results,ticThreshold=1)"
   ]
  },
  {
   "cell_type": "code",
   "execution_count": 5,
   "metadata": {},
   "outputs": [
    {
     "name": "stdout",
     "output_type": "stream",
     "text": [
      "0 []\n"
     ]
    }
   ],
   "source": [
    "display(finalResult)"
   ]
  }
 ],
 "metadata": {
  "kernelspec": {
   "display_name": "Python 3",
   "language": "python",
   "name": "python3"
  },
  "language_info": {
   "codemirror_mode": {
    "name": "ipython",
    "version": 3
   },
   "file_extension": ".py",
   "mimetype": "text/x-python",
   "name": "python",
   "nbconvert_exporter": "python",
   "pygments_lexer": "ipython3",
   "version": "3.10.2"
  }
 },
 "nbformat": 4,
 "nbformat_minor": 2
}
