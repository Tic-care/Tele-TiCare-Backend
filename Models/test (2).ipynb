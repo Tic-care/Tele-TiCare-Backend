{
 "cells": [
  {
   "cell_type": "code",
   "execution_count": 2,
   "metadata": {},
   "outputs": [],
   "source": [
    "from spatialAnalysisv2 import SpatialAnalysis\n",
    "from spatialAnalysisv2 import Visulas\n"
   ]
  },
  {
   "cell_type": "code",
   "execution_count": 3,
   "metadata": {},
   "outputs": [],
   "source": [
    "\n",
    "def video_process(filePath):\n",
    "    # this function is used to process videos to avoide repeating the process \n",
    "    input_video=SpatialAnalysis(filePath)\n",
    "    print(\"Areas Processing\")\n",
    "    input_video.oneSecProcessing()\n",
    "    print(\"Done Processing\")\n",
    "    thresholds,results=input_video.detect_tics()\n",
    "    # Print all in results \n",
    "    for idx , result in enumerate(results):\n",
    "        print(idx,result)\n",
    "    for idx , result in enumerate(thresholds):\n",
    "        print(idx,result)\n",
    "    print(\"video_len\",input_video.video_len)\n",
    "    return thresholds,results \n",
    "\n",
    "def detect_areas(results,TicsSec=[[0,2],[3,4]],ticThreshold=2):\n",
    "    # this function is used to prepare results for front end \n",
    "    finalResult=[]\n",
    "    names=['right brow','left brow','right eye','left eye','mouth','Neck']\n",
    "    \n",
    "    #  results in specified intervals\n",
    "    for idx , interval in enumerate(TicsSec):\n",
    "        print(\"Tic:\",idx+1,' interval',interval)\n",
    "        templist=[]\n",
    "        counter=[0,0,0,0,0,0]\n",
    "        areasPerSec=[]\n",
    "        #loops in interval example [0,2] -->0,1,2\n",
    "        for indx in range(interval[0],interval[1]+1):\n",
    "            print('sec',indx)\n",
    "            templist=results[indx]\n",
    "            #loops in areas result example [0,0,0,1,0,1] where 0-> no tics in this area , 1 -> potential tic\n",
    "            for area_idx in range(0,len(templist)):\n",
    "                counter[area_idx]=counter[area_idx]+templist[area_idx]\n",
    "        for area_idx in range(0,len(templist)):\n",
    "            if counter[area_idx]>=ticThreshold:\n",
    "                print(names[area_idx])\n",
    "                areasPerSec.append(names[area_idx])\n",
    "\n",
    "        finalResult.append(areasPerSec)\n",
    "\n",
    "    return finalResult\n",
    "        \n",
    "def display(finalResult):\n",
    "    #  Print all in results \n",
    "    for idx , result in enumerate(finalResult):\n",
    "        print(idx,result)\n"
   ]
  },
  {
   "cell_type": "markdown",
   "metadata": {},
   "source": [
    "# video refrence threshold"
   ]
  },
  {
   "cell_type": "code",
   "execution_count": 4,
   "metadata": {},
   "outputs": [
    {
     "name": "stdout",
     "output_type": "stream",
     "text": [
      "resized\n",
      "Areas Processing\n",
      "Done\n",
      "Done Processing\n",
      "0 [0, 0, 0, 0, 0, 0]\n",
      "1 [0, 0, 0, 0, 0, 0]\n",
      "2 [0, 0, 0, 0, 0, 0]\n",
      "3 [0, 0, 0, 0, 0, 0]\n",
      "4 [0, 0, 0, 0, 0, 0]\n",
      "5 [0, 0, 0, 0, 0, 0]\n",
      "6 [0, 0, 0, 0, 0, 0]\n",
      "7 [0, 0, 0, 0, 0, 0]\n",
      "8 [0, 0, 0, 1, 0, 0]\n",
      "9 [0, 0, 0, 0, 0, 0]\n",
      "10 [0, 0, 0, 1, 0, 0]\n",
      "11 [0, 0, 0, 1, 0, 0]\n",
      "12 [0, 0, 0, 0, 1, 0]\n",
      "13 [0, 0, 1, 1, 0, 0]\n",
      "14 [0, 0, 0, 0, 0, 0]\n",
      "0 0.49139078591337254\n",
      "1 0.6434309762102097\n",
      "2 0.6621175153202948\n",
      "3 0.6296194970015571\n",
      "4 0.9832999308649827\n",
      "5 0.0\n",
      "video_len 15\n"
     ]
    }
   ],
   "source": [
    "\n",
    "thresholds,results=video_process(\"../downloaded_videos/subject1_video1_14sec.mp4\")\n",
    "\n",
    "# ---------------------Summary of trials to reduce time--> MAIN ISSYUE IS POSE\n",
    "# without shoulders , without landmark ->4.6sec\n",
    "# without shoulders , without landmark , with 1 distance->3.8\n",
    "# without shoulders , without landmark , with 2 distances->4.7\n",
    "# without shoulders , without landmark , with 3 distances->3.8\n",
    "##\n",
    "# with shoulders , without landmark , with 3 distances->50.1sec\n",
    "# with shoulders , without landmark , with all distances->50.1sec\n",
    "# with everything -> 60 sec \n",
    "# with everything, without landmark -> 54 sec \n",
    "# with everything, without landmark , with resize-> 51 sec \n",
    "##\n",
    "# without shoulders , without landmark , with 3 distance , with resize 128, 360->3.8\n",
    "# without shoulders , without landmark , with 3 distance , with resize 128, 360, with tic detection->4sec\n",
    "# without shoulders , without landmark , with 3 distance , with resize 64,64, with tic detection->3.5sec\n",
    "\n"
   ]
  },
  {
   "cell_type": "code",
   "execution_count": 4,
   "metadata": {},
   "outputs": [],
   "source": [
    "# finalResult=detect_areas(results,TicsSec=[[0,2],[3,4]],ticThreshold=1) #===>TicsSec from temporal"
   ]
  },
  {
   "cell_type": "code",
   "execution_count": 5,
   "metadata": {},
   "outputs": [],
   "source": [
    "# display(finalResult)"
   ]
  },
  {
   "cell_type": "markdown",
   "metadata": {},
   "source": [
    "# Visuals"
   ]
  },
  {
   "cell_type": "code",
   "execution_count": 6,
   "metadata": {},
   "outputs": [],
   "source": [
    "# thresholds,results=video_process()\n"
   ]
  },
  {
   "cell_type": "code",
   "execution_count": 7,
   "metadata": {},
   "outputs": [
    {
     "name": "stdout",
     "output_type": "stream",
     "text": [
      "Done\n",
      "Finished.\n"
     ]
    }
   ],
   "source": [
    "Video_visuals=Visulas(inputVideoPath=\"carly1.mp4\",outputVideoPath=\"result1.mp4\",thresholds=thresholds)\n",
    "Video_visuals.get_visuals()\n",
    "# without graph 68 sec\n",
    "# with    graph 105 sec"
   ]
  },
  {
   "cell_type": "code",
   "execution_count": 8,
   "metadata": {},
   "outputs": [],
   "source": [
    "# import cv2 \n",
    "# def display_visuals(videoPath):\n",
    "#     cap = cv2.VideoCapture(videoPath)\n",
    "#     print(cap)\n",
    "#     count=0\n",
    "#     while True:\n",
    "#         success, img = cap.read()\n",
    "#         if not success:\n",
    "#             print(\"Done\")\n",
    "#             break\n",
    "#         count+=1\n",
    "#         cv2.imshow(\"Image\", img)\n",
    "#         cv2.waitKey(300)\n",
    "#         cv2.imwrite(\"img.jpg\",img)\n",
    "\n",
    "#     print(count)\n",
    "#     print('Finished.')\n",
    "#     cap.release()"
   ]
  },
  {
   "cell_type": "code",
   "execution_count": 9,
   "metadata": {},
   "outputs": [],
   "source": [
    "# display_visuals('result1.mp4')"
   ]
  }
 ],
 "metadata": {
  "kernelspec": {
   "display_name": "Python 3",
   "language": "python",
   "name": "python3"
  },
  "language_info": {
   "codemirror_mode": {
    "name": "ipython",
    "version": 3
   },
   "file_extension": ".py",
   "mimetype": "text/x-python",
   "name": "python",
   "nbconvert_exporter": "python",
   "pygments_lexer": "ipython3",
   "version": "3.8.0"
  }
 },
 "nbformat": 4,
 "nbformat_minor": 2
}
